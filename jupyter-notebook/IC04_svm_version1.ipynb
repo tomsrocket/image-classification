{
 "cells": [
  {
   "cell_type": "markdown",
   "metadata": {},
   "source": [
    "## Load the methods for feature vector generation"
   ]
  },
  {
   "cell_type": "code",
   "execution_count": null,
   "metadata": {
    "collapsed": true
   },
   "outputs": [],
   "source": [
    "%run scripts/feature_vector.py\n"
   ]
  },
  {
   "cell_type": "markdown",
   "metadata": {},
   "source": [
    "### Imports"
   ]
  },
  {
   "cell_type": "code",
   "execution_count": null,
   "metadata": {
    "collapsed": true
   },
   "outputs": [],
   "source": [
    "from __future__ import division\n",
    "from __future__ import print_function\n",
    "from PIL import Image\n",
    "from StringIO import StringIO\n",
    "from sklearn import cross_validation\n",
    "from sklearn import grid_search\n",
    "from sklearn import svm\n",
    "from sklearn import metrics\n",
    "import sys\n",
    "import os\n",
    "import pickle"
   ]
  },
  {
   "cell_type": "markdown",
   "metadata": {},
   "source": [
    "## Create all the feature vectors"
   ]
  },
  {
   "cell_type": "code",
   "execution_count": null,
   "metadata": {
    "collapsed": false
   },
   "outputs": [],
   "source": [
    "\n",
    "training_path_a = 'logos/' \n",
    "training_path_b = 'non-logos/mixed/'\n",
    "    \n",
    "training_a = get_feature_vectors_from_directory(training_path_a)\n",
    "training_b = get_feature_vectors_from_directory(training_path_b)\n",
    "\n",
    "# data contains all the training data (a list of feature vectors)\n",
    "data = training_a + training_b\n",
    "\n",
    "# target is the list of target classes for each feature vector: a '1' for\n",
    "# class A and '0' for class B\n",
    "target = [1] * len(training_a) + [0] * len(training_b)\n"
   ]
  },
  {
   "cell_type": "code",
   "execution_count": null,
   "metadata": {
    "collapsed": false
   },
   "outputs": [],
   "source": [
    "print(\"Set 0, size:\", len(training_a))\n",
    "print(\"Set 1, size:\", len(training_b))"
   ]
  },
  {
   "cell_type": "code",
   "execution_count": null,
   "metadata": {
    "collapsed": false
   },
   "outputs": [],
   "source": [
    "\n",
    "# split training data in a train set and a test set. The test set will\n",
    "# containt 20% of the total\n",
    "x_train, x_test, y_train, y_test = cross_validation.train_test_split(data,\n",
    "        target, test_size=0.20)\n",
    "\n",
    "# define the parameter search space\n",
    "parameters = {'kernel': ['linear', 'rbf'], 'C': [1, 10, 100, 1000],\n",
    "        'gamma': [0.01, 0.001, 0.0001]}\n",
    "\n",
    "# search for the best classifier within the search space and return it\n",
    "clf = grid_search.GridSearchCV(svm.SVC(), parameters).fit(x_train, y_train)\n",
    "classifier = clf.best_estimator_\n",
    "\n",
    "print()\n",
    "print('Parameters:', clf.best_params_)\n",
    "print()\n",
    "print('Best classifier score')\n",
    "print(metrics.classification_report(y_test,\n",
    "    classifier.predict(x_test)))\n",
    "\n",
    "# save classifier for later\n",
    "with open('classifiers/classifier-logos-static-training-set.pickle', \"w\") as fp:\n",
    "    pickle.dump(classifier, fp)\n"
   ]
  },
  {
   "cell_type": "code",
   "execution_count": null,
   "metadata": {
    "collapsed": false
   },
   "outputs": [],
   "source": [
    "from IPython.core.display import display, HTML\n",
    "                \n",
    "# Load classifier from file\n",
    "#with open('classifier-logos-static-training-set.pickle', \"r\") as fp:\n",
    "#classifier = pickle.load(fp)\n",
    "\n",
    "def test_directory(classifier, directory):\n",
    "    number = 0\n",
    "    string = ''\n",
    "    for root, _, files in os.walk(directory):\n",
    "        for file_name in files:\n",
    "            number     += 1\n",
    "            file_path   = os.path.join(root, file_name)\n",
    "            img_feature = get_feature_vector_from_image_file(file_path)\n",
    "            result      = classifier.predict([img_feature])\n",
    "            string      = string + '<div class=\"res cl'+str(result[0])+'\"style=\"float:left\"><img src=\"' + file_path + '\" width=\"100px\" /></div>'\n",
    "\n",
    "            if ( not(number % 5)):\n",
    "                display(HTML(string))\n",
    "                string =\"\"\n",
    "            if (number > 100 ):\n",
    "                return\n",
    "\n",
    "test_directory( classifier, 'logos/' )\n",
    "#test_directory( classifier, 'non-logos/car' )\n",
    "#test_directory( classifier, 'non-logos/schwierig' )\n"
   ]
  },
  {
   "cell_type": "code",
   "execution_count": null,
   "metadata": {
    "collapsed": false
   },
   "outputs": [],
   "source": [
    "%%html\n",
    "<style>\n",
    ".res {margin:0 0 0 10px;border:5px solid red}\n",
    ".cl1 {border-color:#ccc}\n",
    "</style>"
   ]
  }
 ],
 "metadata": {
  "kernelspec": {
   "display_name": "Python [Root]",
   "language": "python",
   "name": "Python [Root]"
  },
  "language_info": {
   "codemirror_mode": {
    "name": "ipython",
    "version": 2
   },
   "file_extension": ".py",
   "mimetype": "text/x-python",
   "name": "python",
   "nbconvert_exporter": "python",
   "pygments_lexer": "ipython2",
   "version": "2.7.12"
  }
 },
 "nbformat": 4,
 "nbformat_minor": 0
}
