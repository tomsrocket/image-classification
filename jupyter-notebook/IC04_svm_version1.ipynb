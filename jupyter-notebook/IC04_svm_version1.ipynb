{
 "cells": [
  {
   "cell_type": "markdown",
   "metadata": {},
   "source": [
    "# Training of the SVM\n",
    "\n",
    "## Load the methods for feature vector generation"
   ]
  },
  {
   "cell_type": "code",
   "execution_count": null,
   "metadata": {
    "collapsed": true
   },
   "outputs": [],
   "source": [
    "# Load library that calculates feature vectors\n",
    "%run scripts/feature_vector.py\n"
   ]
  },
  {
   "cell_type": "markdown",
   "metadata": {},
   "source": [
    "## Let's have a look at the import statements we need"
   ]
  },
  {
   "cell_type": "code",
   "execution_count": null,
   "metadata": {
    "collapsed": true
   },
   "outputs": [],
   "source": [
    "# Python 3 syntax in Python 2\n",
    "from __future__ import division\n",
    "from __future__ import print_function\n",
    "\n",
    "# Python Imaging Library adds image processing capabilities\n",
    "from PIL import Image\n",
    "from StringIO import StringIO\n",
    "\n",
    "# Scikit learn\n",
    "from sklearn import cross_validation\n",
    "from sklearn import grid_search\n",
    "from sklearn import svm\n",
    "from sklearn import metrics\n",
    "\n",
    "# Some basic Python libs\n",
    "import sys\n",
    "import os\n",
    "import pickle"
   ]
  },
  {
   "cell_type": "markdown",
   "metadata": {},
   "source": [
    "## Create all the feature vectors"
   ]
  },
  {
   "cell_type": "code",
   "execution_count": null,
   "metadata": {
    "collapsed": false
   },
   "outputs": [],
   "source": [
    "\n",
    "training_path_a = 'logos/' \n",
    "training_path_b = 'non-logos/mixed/'\n",
    "\n",
    "# calculate feature vectors (takes 5 minutes)\n",
    "#training_a = get_feature_vectors_from_directory(training_path_a)\n",
    "#training_b = get_feature_vectors_from_directory(training_path_b)\n",
    "\n",
    "# load previously generated feature vectors\n",
    "training_a = get_pickled_file('cache/training-logos.pickle')\n",
    "training_b = get_pickled_file('cache/training-non-logos-all.pickle')\n",
    "#training_b = get_pickled_file('cache/training-non-logos.pickle')\n",
    "\n",
    "# data contains all the training data (a list of feature vectors)\n",
    "data = training_a + training_b\n",
    "\n",
    "# target is the list of target classes for each feature vector: \n",
    "# '1' for class A and '0' for class B\n",
    "target = [1] * len(training_a) + [0] * len(training_b)\n"
   ]
  },
  {
   "cell_type": "code",
   "execution_count": null,
   "metadata": {
    "collapsed": false
   },
   "outputs": [],
   "source": [
    "print(\"Array of feature vector set 0, size:\", len(training_a))\n",
    "print(\"Array of feature vector set 1, size:\", len(training_b))"
   ]
  },
  {
   "cell_type": "markdown",
   "metadata": {},
   "source": [
    "## Train the SVM"
   ]
  },
  {
   "cell_type": "code",
   "execution_count": null,
   "metadata": {
    "collapsed": false
   },
   "outputs": [],
   "source": [
    "# In order to measure the quality of the classifier\n",
    "# we split training data into a training set \n",
    "# and a test set\n",
    "# the test set will contain 20% of the data\n",
    "train, test, target_train, target_test = \\\n",
    "    cross_validation.train_test_split(\n",
    "        data,\n",
    "        target, \n",
    "        test_size=0.20)\n",
    "\n",
    "\n",
    "# SVM needs some initial configuration parameters \n",
    "# (\"hyperparameters\") \n",
    "\n",
    "# Good hyperparameters can be obtained \n",
    "# by using grid search & \"cross validation\"\n",
    "\n",
    "# But we need to define the parameter search space\n",
    "\n",
    "parameters = {'kernel': ['linear', 'rbf'], \n",
    "              'C': [1, 5, 10, 50, 100, 1000],\n",
    "              'gamma': [1, 0.1, 0.01, 0.001, 0.0001]}\n",
    "\n",
    "#   rbf = radial basis function = gauss kernel\n",
    "#   Other kernels are rarely needed, said Andrew NG \n",
    "#   (Associate Professor of Computer Science at Stanford, founder Coursera)\n",
    "\n",
    "\n",
    "# Search for the best classifier within the search space \n",
    "# A search consists of:\n",
    "#   an estimator (regressor or classifier such as sklearn.svm.SVC());\n",
    "#   a parameter space;\n",
    "#   ...\n",
    "# Documentation: \n",
    "#   http://scikit-learn.org/stable/modules/grid_search.html\n",
    "\n",
    "clf = grid_search.GridSearchCV(svm.SVC(), parameters)\n",
    "clf.fit(train, target_train)\n",
    "classifier = clf.best_estimator_\n",
    "\n",
    "print()\n",
    "print('Parameters:', clf.best_params_)\n",
    "print()\n",
    "print('Best classifier score')\n",
    "print(metrics.classification_report(\n",
    "        target_test,\n",
    "        classifier.predict(test)))\n"
   ]
  },
  {
   "cell_type": "markdown",
   "metadata": {},
   "source": [
    "Explanation:\n",
    "* precision = true positives / (true positives + false positives)\n",
    "* recall = true positives / (true positives + false negatives)\n",
    "* f1-score = 2 \\* precision * recall / (precision+recall)\n",
    "\n",
    "all: \"the higher the better\", 1 = perfect"
   ]
  },
  {
   "cell_type": "code",
   "execution_count": null,
   "metadata": {
    "collapsed": true
   },
   "outputs": [],
   "source": [
    "# save classifier for later\n",
    "#with open('classifiers/classifier5-logos-static-training-set.pickle', \"w\") as fp:\n",
    "#    pickle.dump(classifier, fp)"
   ]
  },
  {
   "cell_type": "markdown",
   "metadata": {},
   "source": [
    "### Add some styles for classification result visualisation"
   ]
  },
  {
   "cell_type": "code",
   "execution_count": null,
   "metadata": {
    "collapsed": false
   },
   "outputs": [],
   "source": [
    "%%html\n",
    "<style>\n",
    ".res {margin:0 0 0 10px;border:5px solid red}\n",
    ".cl1 {border-color:#ccc}\n",
    "</style>"
   ]
  },
  {
   "cell_type": "markdown",
   "metadata": {},
   "source": [
    "## Display classification result"
   ]
  },
  {
   "cell_type": "code",
   "execution_count": null,
   "metadata": {
    "collapsed": false
   },
   "outputs": [],
   "source": [
    "from IPython.core.display import display, HTML\n",
    "\n",
    "# Load classifier from file\n",
    "#classifier = get_pickled_file('classifiers/classifier3-logos-static-training-set.pickle')\n",
    "\n",
    "def test_directory(classifier, directory):\n",
    "    number = 0\n",
    "    string = ''\n",
    "    for root, _, files in os.walk(directory):\n",
    "        for file_name in files:\n",
    "            number     += 1\n",
    "            file_path   = os.path.join(root, file_name)\n",
    "            img_feature = get_feature_vector_from_image_file(file_path)\n",
    "            result      = classifier.predict([img_feature])\n",
    "            string      = string + '<div class=\"res cl'+str(result[0])+'\"style=\"float:left\"><img src=\"' + file_path + '\" width=\"100px\" /></div>'\n",
    "\n",
    "            if ( not(number % 4)):\n",
    "                display(HTML(string))\n",
    "                string =\"\"\n",
    "            if (number > 100 ):\n",
    "                return\n",
    "\n",
    "#test_directory( classifier, 'logos/' )\n",
    "#test_directory( classifier, 'non-logos/car' )\n",
    "test_directory( classifier, 'non-logos/schwierig' )\n"
   ]
  }
 ],
 "metadata": {
  "kernelspec": {
   "display_name": "Python [Root]",
   "language": "python",
   "name": "Python [Root]"
  },
  "language_info": {
   "codemirror_mode": {
    "name": "ipython",
    "version": 2
   },
   "file_extension": ".py",
   "mimetype": "text/x-python",
   "name": "python",
   "nbconvert_exporter": "python",
   "pygments_lexer": "ipython2",
   "version": "2.7.12"
  }
 },
 "nbformat": 4,
 "nbformat_minor": 0
}
