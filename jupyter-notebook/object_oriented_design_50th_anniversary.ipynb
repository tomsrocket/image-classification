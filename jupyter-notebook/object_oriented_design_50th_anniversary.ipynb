{
 "cells": [
  {
   "cell_type": "markdown",
   "metadata": {},
   "source": [
    "# 50th Anniversary of Object-Oriented Programming 2017\n",
    "\n",
    "How did it start?\n",
    "\n",
    "* 1967 in Norway, a software for a nuclear plant was to be written\n",
    "* Kristen Nygaard https://en.wikipedia.org/wiki/Kristen_Nygaard and\n",
    "* Ole-Johan Dahl https://en.wikipedia.org/wiki/Ole-Johan_Dahl\n",
    "* They thought they cant solve the complexity problems with a procedural programming language\n",
    "* In the beginning the concept was called differently\n",
    "* 4-5 years later the name was invented by Alan Kay (https://en.wikipedia.org/wiki/Alan_Kay)\n",
    "\n",
    "\n",
    "* Dr Kay (1972) on OO \"It is like Biological cells -- individual computers on a network, communicating via messages\"\n",
    "\n",
    "* \"Object\" => Abstract Data Type\n",
    "* OO: \"Create abstractions\", \"Build the machine, then press the play button\"\n",
    "* Procedural: \"You are god, you program imperatively\"\n",
    "\n",
    "## Current state of OOP\n",
    "\n",
    "* Pure OO-Languages\n",
    " * Java\n",
    " * Smalltalk\n",
    " \n",
    "\n",
    "\n",
    "\n",
    "## Pros & Cons\n",
    "\n"
   ]
  }
 ],
 "metadata": {
  "kernelspec": {
   "display_name": "Python [Root]",
   "language": "python",
   "name": "Python [Root]"
  },
  "language_info": {
   "codemirror_mode": {
    "name": "ipython",
    "version": 2
   },
   "file_extension": ".py",
   "mimetype": "text/x-python",
   "name": "python",
   "nbconvert_exporter": "python",
   "pygments_lexer": "ipython2",
   "version": "2.7.12"
  }
 },
 "nbformat": 4,
 "nbformat_minor": 0
}
