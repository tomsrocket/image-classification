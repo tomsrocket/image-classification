{
 "cells": [
  {
   "cell_type": "markdown",
   "metadata": {},
   "source": [
    "## Displaying images"
   ]
  },
  {
   "cell_type": "code",
   "execution_count": null,
   "metadata": {
    "collapsed": false
   },
   "outputs": [],
   "source": [
    "from IPython.display import Image as iImage\n",
    "iImage(filename=\"../logos/DC-Shoe-Co-Company-Logo.jpg\", width=100)"
   ]
  },
  {
   "cell_type": "code",
   "execution_count": null,
   "metadata": {
    "collapsed": false
   },
   "outputs": [],
   "source": [
    "from IPython.display import display\n",
    "from os import listdir\n",
    "from os.path import isfile, join\n",
    "mypath = \"../logos/\"\n",
    "\n",
    "logoImages = [join(mypath, f) for f in listdir(mypath) if isfile(join(mypath, f))]\n",
    "for i in range(5): \n",
    "    display(iImage(filename=logoImages[i], width=100))"
   ]
  },
  {
   "cell_type": "code",
   "execution_count": null,
   "metadata": {
    "collapsed": false
   },
   "outputs": [],
   "source": [
    "%matplotlib inline\n",
    "import matplotlib.pyplot as plt\n",
    "import sys, traceback\n",
    "from StringIO import StringIO\n",
    "from PIL import Image\n",
    "\n",
    "def process_image_file(image_path):\n",
    "    print(\"processing image \" + image_path)\n",
    "    image_fp = StringIO(open(image_path, 'rb').read())\n",
    "    try:\n",
    "        image = Image.open(image_fp)\n",
    "        return process_image(image)\n",
    "    except IOError:\n",
    "        return \"not found\"\n",
    "\n",
    "def process_image(image, blocks=4):\n",
    "\n",
    "    if not image.mode == 'RGB':\n",
    "        print( \"Image is not RGB.. converting..\")\n",
    "\n",
    "        # replace alpha channel with white color\n",
    "        imgg = Image.new('RGB', image.size, (255, 255, 255))\n",
    "        imgg.paste(image, None)        \n",
    "        image = imgg\n",
    "        # return None\n",
    "\n",
    "\n",
    "    feature = [0.0] * blocks * blocks * blocks\n",
    "    pixel_count = 0\n",
    "    for pixel in image.getdata():\n",
    "        ridx = int(pixel[0]/(256/blocks))\n",
    "        gidx = int(pixel[1]/(256/blocks))\n",
    "        bidx = int(pixel[2]/(256/blocks))\n",
    "        idx = ridx + gidx * blocks + bidx * blocks * blocks\n",
    "        feature[idx] += 1\n",
    "        pixel_count += 1\n",
    "    return [x/pixel_count for x in feature]\n",
    "\n",
    "fig =  plt.figure(figsize=(16, 6)) \n",
    "\n",
    "# f, axarr = plt.subplots(4)\n",
    "    \n",
    "for i in range(6): \n",
    "    result = process_image_file(logoImages[i])\n",
    "    x = range(len(result))\n",
    "    y = result\n",
    "#\n",
    "    ax1 = fig.add_subplot(3,2,i+1)\n",
    "    ax1.bar(x, y)\n",
    "#    axarr[i].bar(x,y)\n",
    "\n",
    "plt.show()\n",
    "    \n"
   ]
  },
  {
   "cell_type": "code",
   "execution_count": null,
   "metadata": {
    "collapsed": false
   },
   "outputs": [],
   "source": [
    "%matplotlib inline\n",
    "import pylab\n",
    "\n",
    "x = range(len(result))\n",
    "y = result\n",
    "\n",
    "pylab.plot(x, y) "
   ]
  },
  {
   "cell_type": "code",
   "execution_count": null,
   "metadata": {
    "collapsed": false
   },
   "outputs": [],
   "source": [
    "%matplotlib inline\n",
    "import numpy as np\n",
    "import matplotlib.pyplot as plt\n",
    "\n",
    "\n",
    "\n",
    "fig = plt.figure()\n",
    "\n",
    "ax1 = fig.add_subplot(2,2,1)\n",
    "ax1.bar(cms, cms, bottom=bottom)\n",
    "\n",
    "ax2 = fig.add_subplot(2,2,2)\n",
    "ax2.bar([1,2,3], [2,3,10])\n",
    "\n",
    "plt.show()"
   ]
  }
 ],
 "metadata": {
  "kernelspec": {
   "display_name": "Python [Root]",
   "language": "python",
   "name": "Python [Root]"
  },
  "language_info": {
   "codemirror_mode": {
    "name": "ipython",
    "version": 2
   },
   "file_extension": ".py",
   "mimetype": "text/x-python",
   "name": "python",
   "nbconvert_exporter": "python",
   "pygments_lexer": "ipython2",
   "version": "2.7.12"
  }
 },
 "nbformat": 4,
 "nbformat_minor": 0
}
