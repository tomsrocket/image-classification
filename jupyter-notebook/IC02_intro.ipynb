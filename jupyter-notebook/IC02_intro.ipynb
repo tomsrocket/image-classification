{
 "cells": [
  {
   "cell_type": "markdown",
   "metadata": {},
   "source": [
    "## The Library\n",
    "\n",
    "![Scikit-learn](images/scikit-learn.png \"Scikit-learn\")\n",
    "\n",
    "\n",
    "### scikit-learn - \"Machine Learning in Python\"\n",
    "\n",
    "* \"Simple and efficient tools for data mining and data analysis\"\n",
    "* Accessible, reusable\n",
    "* Built on NumPy, SciPy, and matplotlib\n",
    "* Open source and commercially usable (BSD license)\n",
    "\n",
    "#### Numpy \n",
    "* support for large, multi-dimensional arrays and matrices\n",
    "* library of high-level mathematical functions to operate on these arrays\n",
    "* more efficient operations on arrays than the standard implementation (CPython)\n",
    "\n",
    "#### SciPy\n",
    "* library for scientific computing and technical computing\n",
    "* adds modules for optimization, linear algebra, integration, interpolation, signal and image processing, etc\n",
    "* builds on the NumPy array object \n",
    "\n",
    "#### Matplotlib\n",
    "* plotting library for Python\n",
    "* object-oriented API for embedding plots into applications \n",
    "* procedural \"pylab\" interface designed to closely resemble that of MATLAB\n",
    "\n",
    "### Result: Scikit-learn..\n",
    "- is fast \n",
    "- has lots of tools for scientific computing & data analysis \n",
    "- has plotting features\n",
    "- is embedded in the python universe, you can use any other python library for additional tasks\n",
    "- http://scikit-learn.org/\n",
    "\n",
    "----- \n",
    "\n",
    "#### pandas\n",
    "* built on top of NumPy\n",
    "* extra tool that provides a more streamlined way of working with numerical and tabular data \n",
    "* time series functionality, data alignment, NA-friendly statistics, groupby, merge and join methods, \n",
    "* popular for financial applications\n",
    "\n",
    "#### SymPy\n",
    "* Python library for symbolic computation\n",
    "\n",
    "(source: Wikipedia, Stackoverflow, Scikit-learn Homepage) \n"
   ]
  }
 ],
 "metadata": {
  "kernelspec": {
   "display_name": "Python [Root]",
   "language": "python",
   "name": "Python [Root]"
  },
  "language_info": {
   "codemirror_mode": {
    "name": "ipython",
    "version": 2
   },
   "file_extension": ".py",
   "mimetype": "text/x-python",
   "name": "python",
   "nbconvert_exporter": "python",
   "pygments_lexer": "ipython2",
   "version": "2.7.12"
  }
 },
 "nbformat": 4,
 "nbformat_minor": 0
}
