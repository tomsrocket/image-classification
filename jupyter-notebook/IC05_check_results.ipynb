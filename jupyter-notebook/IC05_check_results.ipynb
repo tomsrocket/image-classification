{
 "cells": [
  {
   "cell_type": "markdown",
   "metadata": {},
   "source": [
    "# Visualize the classifier results"
   ]
  },
  {
   "cell_type": "code",
   "execution_count": null,
   "metadata": {
    "collapsed": false
   },
   "outputs": [],
   "source": [
    "# caching of feature vectors\n",
    "\n",
    "%run scripts/feature_vector.py\n",
    "import pickle\n",
    "\n",
    "#class1_features = get_indexed_feature_vectors_from_directory('logos/')\n",
    "#class2_features = get_indexed_feature_vectors_from_directory('non-logos/')\n",
    "\n",
    "#with open('cache/indexed-logo-features.pickle', \"w\") as fp:\n",
    "#    pickle.dump(class1_features, fp)\n",
    "#with open('cache/indexed-non-logo-features.pickle', \"w\") as fp:\n",
    "#    pickle.dump(class2_features, fp)\n",
    "\n"
   ]
  },
  {
   "cell_type": "code",
   "execution_count": null,
   "metadata": {
    "collapsed": false
   },
   "outputs": [],
   "source": [
    "%%html\n",
    "<style>\n",
    ".res {float:left;margin:0 0 5px 10px!important;border:5px solid red}\n",
    ".cl1 {border-color:#ccc}\n",
    "</style>"
   ]
  },
  {
   "cell_type": "markdown",
   "metadata": {},
   "source": [
    "## Define helper functions"
   ]
  },
  {
   "cell_type": "code",
   "execution_count": null,
   "metadata": {
    "collapsed": false
   },
   "outputs": [],
   "source": [
    "from IPython.core.display import display, HTML\n",
    "from __future__ import print_function\n",
    "from __future__ import division\n",
    "\n",
    "def get_validation_result(classifier, directory, pickle_file, expected_result):\n",
    "    '''  \n",
    "        read feature vectors from cache\n",
    "        and predict them with the provided classifier\n",
    "    '''\n",
    "    testset = get_pickled_file('cache/%s.pickle' % pickle_file)\n",
    "    counter = {'good': 0, 'bad': 0, 'bad_files': []}\n",
    "    for root, _, files in os.walk(directory):\n",
    "        for file_name in files:\n",
    "            file_path = os.path.join(root, file_name)\n",
    "            feature_vector = testset[file_path]\n",
    "            result      = classifier.predict([feature_vector])\n",
    "            good = (result[0] == expected_result)\n",
    "            counter['good' if good else 'bad'] += 1\n",
    "            if not good: \n",
    "                counter['bad_files'].append(file_path)\n",
    "    return counter\n",
    "\n",
    "def print_images(images):\n",
    "    string = ''\n",
    "    for file_path in images:\n",
    "        string += '<div style=\"float:left\"><img class=\"res\" src=\"' + file_path + '\" width=\"100px\" /></div>'\n",
    "    display(HTML(string))\n",
    "\n",
    "def print_validation_result(result):\n",
    "    percentage=result['bad']/result['good']*100\n",
    "    print(\"%d correctly classified files (%0.2f%%)\\n%d wrongly classified files (%0.2f%%):\" % (result['good'], 100-percentage, result['bad'], percentage))\n"
   ]
  },
  {
   "cell_type": "markdown",
   "metadata": {},
   "source": [
    "## Display the results of the classifier test"
   ]
  },
  {
   "cell_type": "code",
   "execution_count": null,
   "metadata": {
    "collapsed": false
   },
   "outputs": [],
   "source": [
    "from __future__ import division\n",
    "from __future__ import print_function\n",
    "classifier_file = 'classifiers/classifier2-logos-all-static-training-set.pickle'\n",
    "#classifier_file = 'classifiers/classifier-logos-static-training-set.pickle'\n",
    "#classifier_file = 'classifiers/classifier3-logos-static-training-set.pickle'\n",
    "\n",
    "classifier = pickle.load(open(classifier_file, \"r\"))\n",
    "result1 = get_validation_result(classifier, 'logos/', 'indexed-logo-features' ,1)\n",
    "result2 = get_validation_result(classifier, 'non-logos/', 'indexed-non-logo-features' ,0)\n",
    "\n",
    "print(\"Classifier: \\n%s\\n\" % classifier_file)\n",
    "print('Total results:')\n",
    "result = {'good': result1['good'] + result2['good'],\n",
    "        'bad': result1['bad'] + result2['bad']}\n",
    "print_validation_result(result)\n",
    "\n",
    "print(\"\\nResults: Logos\")\n",
    "print_validation_result(result1)\n",
    "print_images(result1['bad_files'])\n",
    "\n",
    "print(\"Results: Non-logos\")\n",
    "print_validation_result(result2)\n",
    "print_images(result2['bad_files'])"
   ]
  },
  {
   "cell_type": "code",
   "execution_count": null,
   "metadata": {
    "collapsed": false
   },
   "outputs": [],
   "source": [
    "%matplotlib inline\n",
    "import matplotlib.pyplot as plt\n",
    "\n",
    "def draw_pie(plt, correct, wrong):\n",
    "    plt.pie((correct, wrong),\n",
    "        explode=(0,0.1),\n",
    "        #labels=(), # 'correct','wrong'\n",
    "        colors=('gold','lightcoral'),\n",
    "        autopct='%1.1f%%',\n",
    "        shadow=True,\n",
    "        textprops={}\n",
    "       )\n",
    "\n",
    "    plt.axis('equal')\n",
    "\n",
    "\n",
    "fig =  plt.figure(figsize=(16, 6)) \n",
    "ax = fig.add_subplot(1,3,1)\n",
    "draw_pie(ax, result['good'], result['bad'])\n",
    "ax = fig.add_subplot(1,3,2)\n",
    "draw_pie(ax, result1['good'], result1['bad'])\n",
    "ax = fig.add_subplot(1,3,3)\n",
    "draw_pie(ax, result2['good'], result2['bad'])\n",
    "\n",
    "print(\"results using the images that were used for training\\n\")\n",
    "print(\"total \\t\\t\\t\\tlogos\\t\\t\\t\\tnon-logos\")\n",
    "plt.show()\n"
   ]
  }
 ],
 "metadata": {
  "kernelspec": {
   "display_name": "Python [Root]",
   "language": "python",
   "name": "Python [Root]"
  },
  "language_info": {
   "codemirror_mode": {
    "name": "ipython",
    "version": 2
   },
   "file_extension": ".py",
   "mimetype": "text/x-python",
   "name": "python",
   "nbconvert_exporter": "python",
   "pygments_lexer": "ipython2",
   "version": "2.7.12"
  }
 },
 "nbformat": 4,
 "nbformat_minor": 0
}
