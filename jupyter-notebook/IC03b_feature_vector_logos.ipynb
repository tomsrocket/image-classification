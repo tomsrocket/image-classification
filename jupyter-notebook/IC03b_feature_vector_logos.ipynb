{
 "cells": [
  {
   "cell_type": "markdown",
   "metadata": {
    "nbpresent": {
     "id": "814cf1f8-ec55-4d81-8b0f-8f19412d4dae"
    }
   },
   "source": [
    "# Image Classification with Support Vector Machines"
   ]
  },
  {
   "cell_type": "markdown",
   "metadata": {},
   "source": [
    "We want to find out if an image is a company logo."
   ]
  },
  {
   "cell_type": "markdown",
   "metadata": {
    "nbpresent": {
     "id": "0e05b6fb-f75e-40cb-b2bb-b3e4e3ab6986"
    }
   },
   "source": [
    "## The company logos we are working with"
   ]
  },
  {
   "cell_type": "code",
   "execution_count": null,
   "metadata": {
    "collapsed": false,
    "nbpresent": {
     "id": "3d317ff5-53f5-4311-bd2c-47f5b6a90275"
    }
   },
   "outputs": [],
   "source": [
    "from IPython.core.display import display, HTML\n",
    "from os import listdir\n",
    "from os.path import isfile, join\n",
    "\n",
    "mypath = \"logos/\"\n",
    "\n",
    "# create a list containing all of the image paths\n",
    "logoImages = [join(mypath, f) \n",
    "              for f in listdir(mypath) \n",
    "              if isfile(join(mypath, f))]\n",
    "\n",
    "string = '<h1>' + str(len(logoImages)) + \" Logos in directory</h1>\";\n",
    "\n",
    "for i in range(100): \n",
    "    string += '<img style=\"float:left;width:100px;height:70px;oveflow:hidden\" src=\"' + logoImages[i] + '\"</h1>';\n",
    "\n",
    "display(HTML(string))"
   ]
  },
  {
   "cell_type": "markdown",
   "metadata": {},
   "source": [
    "## The feature vector calculation"
   ]
  },
  {
   "cell_type": "code",
   "execution_count": null,
   "metadata": {
    "collapsed": false,
    "nbpresent": {
     "id": "6e7dfc3b-d367-4401-a2e3-31172110885c"
    }
   },
   "outputs": [],
   "source": [
    "%matplotlib inline\n",
    "\n",
    "from StringIO import StringIO\n",
    "from PIL import Image # http://effbot.org/imagingbook/image.htm\n",
    "\n",
    "# open image file, convert to RGB and return the feature vector\n",
    "def process_image_file(image_path):\n",
    "    print(\"Processing image \" + image_path)\n",
    "    image_fp = StringIO(open(image_path, 'rb').read())\n",
    "    image = Image.open(image_fp)\n",
    "\n",
    "    if not image.mode == 'RGB':\n",
    "        print( \"Image is not RGB.. converting..\")\n",
    "\n",
    "        # replace alpha channel with white color\n",
    "        rgb_image = Image.new('RGB', image.size, (255, 255, 255))\n",
    "        rgb_image.paste(image, None)        \n",
    "        image = rgb_image\n",
    "    return calculate_feature_vector(image)\n",
    "\n",
    "\n",
    "def calculate_feature_vector(image, blocks=4):\n",
    "    feature = [0.0] * blocks * blocks * blocks\n",
    "    pixel_count = 0\n",
    "    for pixel in image.getdata():\n",
    "        ridx = int(pixel[0]/(256/blocks))\n",
    "        gidx = int(pixel[1]/(256/blocks))\n",
    "        bidx = int(pixel[2]/(256/blocks))\n",
    "        idx = ridx + gidx * blocks + bidx * blocks * blocks\n",
    "        feature[idx] += 1\n",
    "        pixel_count += 1\n",
    "    return [x/pixel_count for x in feature]\n",
    "\n",
    "\n"
   ]
  },
  {
   "cell_type": "markdown",
   "metadata": {},
   "source": [
    "## Visualize some of the feature vectors using matplotlib"
   ]
  },
  {
   "cell_type": "code",
   "execution_count": null,
   "metadata": {
    "collapsed": false
   },
   "outputs": [],
   "source": [
    "\n",
    "import matplotlib.pyplot as plt\n",
    "from matplotlib.offsetbox import TextArea, DrawingArea, OffsetImage, AnnotationBbox\n",
    "from scipy import misc\n",
    "\n",
    "# initialize a \"figure\" = drawing\n",
    "fig =  plt.figure(figsize=(16, 6)) \n",
    "\n",
    "for i in range(8): \n",
    "    image_path = logoImages[i]\n",
    "    feature_vector = process_image_file(image_path)\n",
    "\n",
    "    # axes of the graph \n",
    "    x = range(len(feature_vector)) # x => 0..63 = \"ID\" of the color = size of the feature vector\n",
    "    y = feature_vector             # y => number of pixels in the color x (normalized)\n",
    "\n",
    "    # add bar charts to the figure\n",
    "    ax1 = fig.add_subplot(4,2,i+1)\n",
    "    ax1.bar(x, y)\n",
    "    \n",
    "    # use \"AnnotationBox\" to put the image into the graph as well\n",
    "    imagebox = OffsetImage(misc.imread(image_path), zoom=0.17)\n",
    "    ab = AnnotationBbox(imagebox, [3, 0.6],\n",
    "        xybox=(30., -30.),\n",
    "        xycoords='data',\n",
    "        boxcoords=\"offset points\")                                  \n",
    "    ax1.add_artist(ab)\n",
    "\n",
    "plt.show()\n",
    "    "
   ]
  },
  {
   "cell_type": "markdown",
   "metadata": {},
   "source": [
    "\n"
   ]
  }
 ],
 "metadata": {
  "kernelspec": {
   "display_name": "Python [Root]",
   "language": "python",
   "name": "Python [Root]"
  },
  "language_info": {
   "codemirror_mode": {
    "name": "ipython",
    "version": 2
   },
   "file_extension": ".py",
   "mimetype": "text/x-python",
   "name": "python",
   "nbconvert_exporter": "python",
   "pygments_lexer": "ipython2",
   "version": "2.7.12"
  },
  "nbpresent": {
   "slides": {
    "0efaf6c6-6dc8-47ad-96a4-b03c25c1236d": {
     "id": "0efaf6c6-6dc8-47ad-96a4-b03c25c1236d",
     "prev": "9f42d38c-a39f-4cf3-9949-ac2577915038",
     "regions": {
      "ea19d211-842c-4e42-a2d2-3f42161e33cf": {
       "attrs": {
        "height": 0.8,
        "width": 0.8,
        "x": 0.1,
        "y": 0.1
       },
       "content": {
        "cell": "3d317ff5-53f5-4311-bd2c-47f5b6a90275",
        "part": "whole"
       },
       "id": "ea19d211-842c-4e42-a2d2-3f42161e33cf"
      }
     }
    },
    "0f064ecc-8cc7-4ecd-a9bd-4f21aab385a1": {
     "id": "0f064ecc-8cc7-4ecd-a9bd-4f21aab385a1",
     "prev": null,
     "regions": {
      "e5fad91b-bd00-48db-a445-849a98c3aca3": {
       "attrs": {
        "height": 0.8,
        "width": 0.8,
        "x": 0.1,
        "y": 0.1
       },
       "content": {
        "cell": "814cf1f8-ec55-4d81-8b0f-8f19412d4dae",
        "part": "whole"
       },
       "id": "e5fad91b-bd00-48db-a445-849a98c3aca3"
      }
     }
    },
    "2b862fe5-4acc-45ff-96e2-06d612f7ea7a": {
     "id": "2b862fe5-4acc-45ff-96e2-06d612f7ea7a",
     "prev": "0efaf6c6-6dc8-47ad-96a4-b03c25c1236d",
     "regions": {
      "38627576-885e-4473-a382-fc76b0465868": {
       "attrs": {
        "height": 0.8,
        "width": 0.8,
        "x": 0.1,
        "y": 0.1
       },
       "content": {
        "cell": "6e7dfc3b-d367-4401-a2e3-31172110885c",
        "part": "whole"
       },
       "id": "38627576-885e-4473-a382-fc76b0465868"
      }
     }
    },
    "33c2bd6a-1716-402f-90b6-1153b9cb95c0": {
     "id": "33c2bd6a-1716-402f-90b6-1153b9cb95c0",
     "prev": "92ed52bc-fd95-4e68-b793-09c00d3bd5a1",
     "regions": {
      "9ac7ec7d-9408-4277-973f-e8d62ad5261e": {
       "attrs": {
        "height": 0.8,
        "width": 0.8,
        "x": 0.1,
        "y": 0.1
       },
       "content": {
        "cell": "959d2630-4876-455f-9784-e79b5c1bb382",
        "part": "whole"
       },
       "id": "9ac7ec7d-9408-4277-973f-e8d62ad5261e"
      }
     }
    },
    "92ed52bc-fd95-4e68-b793-09c00d3bd5a1": {
     "id": "92ed52bc-fd95-4e68-b793-09c00d3bd5a1",
     "prev": "0f064ecc-8cc7-4ecd-a9bd-4f21aab385a1",
     "regions": {
      "a4b612f9-d8f3-4c2b-b7c6-bea963c279aa": {
       "attrs": {
        "height": 0.8,
        "width": 0.8,
        "x": 0.1,
        "y": 0.1
       },
       "content": {
        "cell": "8129ae3d-0717-4d9c-849d-d4b00f4a0bd5",
        "part": "whole"
       },
       "id": "a4b612f9-d8f3-4c2b-b7c6-bea963c279aa"
      }
     }
    },
    "9f42d38c-a39f-4cf3-9949-ac2577915038": {
     "id": "9f42d38c-a39f-4cf3-9949-ac2577915038",
     "prev": "33c2bd6a-1716-402f-90b6-1153b9cb95c0",
     "regions": {
      "83258e52-c759-4f5b-9fd7-d451bd4a6b47": {
       "attrs": {
        "height": 0.8,
        "width": 0.8,
        "x": 0.1,
        "y": 0.1
       },
       "content": {
        "cell": "0e05b6fb-f75e-40cb-b2bb-b3e4e3ab6986",
        "part": "whole"
       },
       "id": "83258e52-c759-4f5b-9fd7-d451bd4a6b47"
      }
     }
    }
   },
   "themes": {}
  }
 },
 "nbformat": 4,
 "nbformat_minor": 0
}
