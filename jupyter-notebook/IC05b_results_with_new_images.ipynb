{
 "cells": [
  {
   "cell_type": "markdown",
   "metadata": {
    "nbpresent": {
     "id": "814cf1f8-ec55-4d81-8b0f-8f19412d4dae"
    }
   },
   "source": [
    "# Test the classifier with unknown images"
   ]
  },
  {
   "cell_type": "code",
   "execution_count": null,
   "metadata": {
    "collapsed": false
   },
   "outputs": [],
   "source": [
    "%%html\n",
    "<style>\n",
    "img.res {float:left;margin:0 0 5px 10px!important;border:5px solid red}\n",
    "img.cl1 {border-color:#ccc}\n",
    "</style>"
   ]
  },
  {
   "cell_type": "markdown",
   "metadata": {},
   "source": [
    "## Show some of the images"
   ]
  },
  {
   "cell_type": "code",
   "execution_count": null,
   "metadata": {
    "collapsed": false,
    "nbpresent": {
     "id": "3d317ff5-53f5-4311-bd2c-47f5b6a90275"
    }
   },
   "outputs": [],
   "source": [
    "from IPython.core.display import display, HTML\n",
    "from os import listdir\n",
    "from os.path import isfile, isdir, join\n",
    "#imagepath = \n",
    "\n",
    "def get_images_from_directory(imagepath):\n",
    "    return [join(imagepath, f) \n",
    "        for f in listdir(imagepath) \n",
    "        if isfile(join(imagepath, f))]\n",
    "\n",
    "logoImages = get_images_from_directory('non-logos/schwierig')\n",
    "logoImages += get_images_from_directory('new-images/logos')\n",
    "logoImages += get_images_from_directory('new-images/non-logos')\n",
    "\n",
    "string = '<h1>' + str(len(logoImages)) + \" files in directory</h1>\";\n",
    "\n",
    "for i in range(min(len(logoImages),50)): \n",
    "    string += '<img style=\"float:left;width:100px;height:70px;oveflow:hidden\" src=\"' + logoImages[i] + '\"</h1>';\n",
    "\n",
    "display(HTML(string))"
   ]
  },
  {
   "cell_type": "markdown",
   "metadata": {},
   "source": [
    "## Load classifier, predict, and show results"
   ]
  },
  {
   "cell_type": "code",
   "execution_count": null,
   "metadata": {
    "collapsed": false,
    "nbpresent": {
     "id": "6e7dfc3b-d367-4401-a2e3-31172110885c"
    }
   },
   "outputs": [],
   "source": [
    "%matplotlib inline\n",
    "%run scripts/feature_vector.py \n",
    "from __future__ import print_function\n",
    "from IPython.core.display import display, HTML\n",
    "\n",
    "classifier_file = 'classifiers/classifier3-logos-static-training-set.pickle'\n",
    "classifier = pickle.load(open(classifier_file, \"r\"))\n",
    "\n",
    "string = \"\"\n",
    "number = 0\n",
    "for i in range(min(len(logoImages),50)): \n",
    "    number+=1\n",
    "    image_path = logoImages[i]\n",
    "    img_feature = get_feature_vector_from_image_file(image_path)\n",
    "    result = classifier.predict([img_feature])\n",
    "\n",
    "    string += '<img src=\"' + image_path + '\" width=\"80\" class=\"res cl'+str(result[0])+'\" />'\n",
    "    if ( not(number % 7)):\n",
    "        display(HTML(string))\n",
    "        string =\"\"\n",
    "\n",
    "display(HTML(string))\n",
    "    "
   ]
  },
  {
   "cell_type": "markdown",
   "metadata": {},
   "source": [
    "\n"
   ]
  }
 ],
 "metadata": {
  "kernelspec": {
   "display_name": "Python [Root]",
   "language": "python",
   "name": "Python [Root]"
  },
  "language_info": {
   "codemirror_mode": {
    "name": "ipython",
    "version": 2
   },
   "file_extension": ".py",
   "mimetype": "text/x-python",
   "name": "python",
   "nbconvert_exporter": "python",
   "pygments_lexer": "ipython2",
   "version": "2.7.12"
  },
  "nbpresent": {
   "slides": {
    "0efaf6c6-6dc8-47ad-96a4-b03c25c1236d": {
     "id": "0efaf6c6-6dc8-47ad-96a4-b03c25c1236d",
     "prev": "9f42d38c-a39f-4cf3-9949-ac2577915038",
     "regions": {
      "ea19d211-842c-4e42-a2d2-3f42161e33cf": {
       "attrs": {
        "height": 0.8,
        "width": 0.8,
        "x": 0.1,
        "y": 0.1
       },
       "content": {
        "cell": "3d317ff5-53f5-4311-bd2c-47f5b6a90275",
        "part": "whole"
       },
       "id": "ea19d211-842c-4e42-a2d2-3f42161e33cf"
      }
     }
    },
    "0f064ecc-8cc7-4ecd-a9bd-4f21aab385a1": {
     "id": "0f064ecc-8cc7-4ecd-a9bd-4f21aab385a1",
     "prev": null,
     "regions": {
      "e5fad91b-bd00-48db-a445-849a98c3aca3": {
       "attrs": {
        "height": 0.8,
        "width": 0.8,
        "x": 0.1,
        "y": 0.1
       },
       "content": {
        "cell": "814cf1f8-ec55-4d81-8b0f-8f19412d4dae",
        "part": "whole"
       },
       "id": "e5fad91b-bd00-48db-a445-849a98c3aca3"
      }
     }
    },
    "2b862fe5-4acc-45ff-96e2-06d612f7ea7a": {
     "id": "2b862fe5-4acc-45ff-96e2-06d612f7ea7a",
     "prev": "0efaf6c6-6dc8-47ad-96a4-b03c25c1236d",
     "regions": {
      "38627576-885e-4473-a382-fc76b0465868": {
       "attrs": {
        "height": 0.8,
        "width": 0.8,
        "x": 0.1,
        "y": 0.1
       },
       "content": {
        "cell": "6e7dfc3b-d367-4401-a2e3-31172110885c",
        "part": "whole"
       },
       "id": "38627576-885e-4473-a382-fc76b0465868"
      }
     }
    },
    "33c2bd6a-1716-402f-90b6-1153b9cb95c0": {
     "id": "33c2bd6a-1716-402f-90b6-1153b9cb95c0",
     "prev": "92ed52bc-fd95-4e68-b793-09c00d3bd5a1",
     "regions": {
      "9ac7ec7d-9408-4277-973f-e8d62ad5261e": {
       "attrs": {
        "height": 0.8,
        "width": 0.8,
        "x": 0.1,
        "y": 0.1
       },
       "content": {
        "cell": "959d2630-4876-455f-9784-e79b5c1bb382",
        "part": "whole"
       },
       "id": "9ac7ec7d-9408-4277-973f-e8d62ad5261e"
      }
     }
    },
    "92ed52bc-fd95-4e68-b793-09c00d3bd5a1": {
     "id": "92ed52bc-fd95-4e68-b793-09c00d3bd5a1",
     "prev": "0f064ecc-8cc7-4ecd-a9bd-4f21aab385a1",
     "regions": {
      "a4b612f9-d8f3-4c2b-b7c6-bea963c279aa": {
       "attrs": {
        "height": 0.8,
        "width": 0.8,
        "x": 0.1,
        "y": 0.1
       },
       "content": {
        "cell": "8129ae3d-0717-4d9c-849d-d4b00f4a0bd5",
        "part": "whole"
       },
       "id": "a4b612f9-d8f3-4c2b-b7c6-bea963c279aa"
      }
     }
    },
    "9f42d38c-a39f-4cf3-9949-ac2577915038": {
     "id": "9f42d38c-a39f-4cf3-9949-ac2577915038",
     "prev": "33c2bd6a-1716-402f-90b6-1153b9cb95c0",
     "regions": {
      "83258e52-c759-4f5b-9fd7-d451bd4a6b47": {
       "attrs": {
        "height": 0.8,
        "width": 0.8,
        "x": 0.1,
        "y": 0.1
       },
       "content": {
        "cell": "0e05b6fb-f75e-40cb-b2bb-b3e4e3ab6986",
        "part": "whole"
       },
       "id": "83258e52-c759-4f5b-9fd7-d451bd4a6b47"
      }
     }
    }
   },
   "themes": {}
  }
 },
 "nbformat": 4,
 "nbformat_minor": 0
}
